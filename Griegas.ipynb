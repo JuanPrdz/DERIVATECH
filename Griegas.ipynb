{
 "cells": [
  {
   "cell_type": "code",
   "execution_count": 25,
   "id": "378c7edd-9c49-47b6-ba48-5b9d07b950fe",
   "metadata": {},
   "outputs": [
    {
     "name": "stdout",
     "output_type": "stream",
     "text": [
      "[*********************100%***********************]  1 of 1 completed\n",
      "[*********************100%***********************]  1 of 1 completed\n",
      "[*********************100%***********************]  1 of 1 completed\n",
      "[*********************100%***********************]  1 of 1 completed\n",
      "[*********************100%***********************]  1 of 1 completed\n",
      "[*********************100%***********************]  1 of 1 completed\n",
      "[*********************100%***********************]  1 of 1 completed\n",
      "[*********************100%***********************]  1 of 1 completed\n"
     ]
    }
   ],
   "source": [
    "import numpy as np\n",
    "from scipy.stats import norm\n",
    "import matplotlib.pyplot as plt\n",
    "import scipy.stats as st\n",
    "import Precios"
   ]
  },
  {
   "cell_type": "code",
   "execution_count": 23,
   "id": "63a0cc6d",
   "metadata": {},
   "outputs": [
    {
     "ename": "ModuleNotFoundError",
     "evalue": "No module named 'Prueba'",
     "output_type": "error",
     "traceback": [
      "\u001b[1;31m---------------------------------------------------------------------------\u001b[0m",
      "\u001b[1;31mModuleNotFoundError\u001b[0m                       Traceback (most recent call last)",
      "\u001b[1;32m~\\AppData\\Local\\Temp\\ipykernel_4680\\2181570839.py\u001b[0m in \u001b[0;36m<cell line: 1>\u001b[1;34m()\u001b[0m\n\u001b[1;32m----> 1\u001b[1;33m \u001b[1;32mimport\u001b[0m \u001b[0mPrueba\u001b[0m\u001b[1;33m\u001b[0m\u001b[1;33m\u001b[0m\u001b[0m\n\u001b[0m",
      "\u001b[1;31mModuleNotFoundError\u001b[0m: No module named 'Prueba'"
     ]
    }
   ],
   "source": [
    "import Prueba"
   ]
  },
  {
   "cell_type": "markdown",
   "id": "e3498e64-b0bf-47e6-a621-dd848d32aaaf",
   "metadata": {},
   "source": [
    "## Primer Orden"
   ]
  },
  {
   "cell_type": "code",
   "execution_count": null,
   "id": "7c8710bd-db50-43d1-a82c-c4ee926728c5",
   "metadata": {},
   "outputs": [],
   "source": [
    "def delta_call(St,k,T,t,r,sigma):\n",
    "    d1 = (np.log(St/k)+r*(T-t)+ (sigma**2*(T-t))/2)/(sigma*np.sqrt(T-t))\n",
    "    delta = st.norm.cdf(d1,0,1)\n",
    "    return delta\n",
    "\n",
    "def delta_put(St,k,T,t,r,sigma):\n",
    "    md1 = -((np.log(St/k)+r*(T-t)+ (sigma**2*(T-t))/2)/(sigma*np.sqrt(T-t)))\n",
    "    delta = -st.norm.cdf(md1,0,1)\n",
    "    return delta"
   ]
  },
  {
   "cell_type": "code",
   "execution_count": null,
   "id": "dadf7cee-bd49-49da-92df-426cd787de73",
   "metadata": {},
   "outputs": [],
   "source": [
    "def vega(St,k,T,t,r,sigma):\n",
    "    d1= (np.log(St/k)+(r +0.5*sigma**2)*(T-t))/(sigma*np.sqrt(T-t))\n",
    "    vega = St*np.sqrt(T-t)*np.exp(-0.5*d1**2)/(np.sqrt(2*np.pi))\n",
    "    return vega"
   ]
  },
  {
   "cell_type": "code",
   "execution_count": null,
   "id": "821b1b92-9f0d-4180-b64e-08b3591bf04f",
   "metadata": {},
   "outputs": [],
   "source": [
    "def theta_call(St,k,T,t,r,sigma):\n",
    "    d1= (np.log(St/k)+(r +0.5*sigma**2)*(T-t))/(sigma*np.sqrt(T-t))\n",
    "    d2= (np.log(St/k)+(r -0.5*sigma**2)*(T-t))/(sigma*np.sqrt(T-t))\n",
    "    theta = -(St*(np.exp(-0.5*d1**2)/(np.sqrt(2*np.pi)))*sigma)/(2*np.sqrt(T-t)) - r*k*np.exp(-r*(T-t))*st.norm.cdf(d2,0,1)\n",
    "    return theta\n",
    "\n",
    "def theta_put(St,k,T,t,r,sigma):\n",
    "    d1= (np.log(St/k)+(r +0.5*sigma**2)*(T-t))/(sigma*np.sqrt(T-t))\n",
    "    md2= -((np.log(St/k)+(r -0.5*sigma**2)*(T-t))/(sigma*np.sqrt(T-t)))\n",
    "    theta = -(St*(np.exp(-0.5*d1**2)/(np.sqrt(2*np.pi)))*sigma)/(2*np.sqrt(T-t)) + r*k*np.exp(-r*(T-t))*st.norm.cdf(md2,0,1)\n",
    "    return theta"
   ]
  },
  {
   "cell_type": "code",
   "execution_count": null,
   "id": "ec3c6495-b64f-4e5c-9339-66eae2f0c545",
   "metadata": {},
   "outputs": [],
   "source": [
    "def rho_call(St,k,T,t,r,sigma):\n",
    "    d2= (np.log(St/k)+(r -0.5*sigma**2)*(T-t))/(sigma*np.sqrt(T-t))\n",
    "    rho = (T-t)*k*np.exp(-r*(T-t))*st.norm.cdf(d2,0,1)\n",
    "    return rho\n",
    "\n",
    "def rho_put(St,k,T,t,r,sigma):\n",
    "    md2= -((np.log(St/k)+(r -0.5*sigma**2)*(T-t))/(sigma*np.sqrt(T-t)))\n",
    "    rho = -((T-t)*k*np.exp(-r*(T-t))*st.norm.cdf(md2,0,1))\n",
    "    return rho"
   ]
  },
  {
   "cell_type": "markdown",
   "id": "8ac086d9-3be3-4608-bdbc-35ad3129a1a3",
   "metadata": {},
   "source": [
    "## Segundo Orden"
   ]
  },
  {
   "cell_type": "code",
   "execution_count": null,
   "id": "472e4565-d56f-41af-8b4c-4eeb44ebb20f",
   "metadata": {},
   "outputs": [],
   "source": [
    "def gamma(St,k,T,t,r,sigma):\n",
    "    d1= (np.log(St/k)+(r +0.5*sigma**2)*(T-t))/(sigma*np.sqrt(T-t))\n",
    "    gamma = np.exp(-0.5*d1**2)/(np.sqrt(2*np.pi))\n",
    "    return gamma"
   ]
  },
  {
   "cell_type": "code",
   "execution_count": null,
   "id": "4c9c423a-cb46-4418-8339-78d0a67d10c4",
   "metadata": {},
   "outputs": [],
   "source": [
    "def vanna(St,k,T,t,r,sigma):\n",
    "    d1= (np.log(St/k)+(r +0.5*sigma**2)*(T-t))/(sigma*np.sqrt(T-t))\n",
    "    vega= St*np.sqrt(T-t)*np.exp(-0.5*d1**2)/(np.sqrt(2*np.pi))\n",
    "    vanna = (vega/St)*(1-(d1/(sigma*np.sqrt(T-t))))\n",
    "    return vanna"
   ]
  },
  {
   "cell_type": "code",
   "execution_count": null,
   "id": "ecbac255-fdb6-4e64-a54e-ade7898665a6",
   "metadata": {},
   "outputs": [],
   "source": [
    "def volga(St,k,T,t,r,sigma):\n",
    "    d1= (np.log(St/k)+(r +0.5*sigma**2)*(T-t))/(sigma*np.sqrt(T-t))\n",
    "    d2= (np.log(St/k)+(r -0.5*sigma**2)*(T-t))/(sigma*np.sqrt(T-t))\n",
    "    vega= St*np.sqrt(T-t)*np.exp(-0.5*d1**2)/(np.sqrt(2*np.pi))\n",
    "    volga = vega*((d1*d2)/sigma)\n",
    "    return volga"
   ]
  },
  {
   "cell_type": "markdown",
   "id": "35f50972-6454-4cd0-bc1c-64eb3748d9c4",
   "metadata": {},
   "source": [
    "## Tercer Orden"
   ]
  },
  {
   "cell_type": "code",
   "execution_count": null,
   "id": "675d3f17-c453-4fc4-9438-981e40a7f00d",
   "metadata": {},
   "outputs": [],
   "source": [
    "def color(St,k,T,t,r,sigma):\n",
    "    d1= (np.log(St/k)+(r +0.5*sigma**2)*(T-t))/(sigma*np.sqrt(T-t))\n",
    "    d2= (np.log(St/k)+(r -0.5*sigma**2)*(T-t))/(sigma*np.sqrt(T-t))\n",
    "    color= -((np.exp(-0.5*d1**2)/(np.sqrt(2*np.pi)))/(2*St*(T-t)*sigma*np.sqrt(T-t)))*(1+((2*r*(T-t)-d2*sigma*np.sqrt(T-t)*d1)/(2*(T-t)*sigma*np.sqrt(T-t))))\n",
    "    return color"
   ]
  },
  {
   "cell_type": "markdown",
   "id": "e6fda81f-5a43-42c1-b7f0-37abd9f6f85b",
   "metadata": {},
   "source": [
    "## Calarlo"
   ]
  },
  {
   "cell_type": "code",
   "execution_count": null,
   "id": "0b015664-016f-403f-b6dc-a92b0ac194e8",
   "metadata": {},
   "outputs": [],
   "source": [
    "r = .05\n",
    "T = 1\n",
    "t = 0\n",
    "sigma = .2\n",
    "St = pr.st \n",
    "k = St*1.50"
   ]
  },
  {
   "cell_type": "code",
   "execution_count": null,
   "id": "49b49ba8",
   "metadata": {},
   "outputs": [],
   "source": [
    "def griegas(r,T=1,t=0,sigma,st,k):\n",
    "    d_c =delta_call(St,k,T,t,r,sigma)\n",
    "    d_p = delta_put(St,k,T,t,r,sigma)\n",
    "    v   = vega(St,k,T,t,r,sigma)\n",
    "    t_c = theta_call(St,k,T,t,r,sigma)\n",
    "    t_p = theta_put(St,k,T,t,r,sigma)\n",
    "    r_c = rho_call(St,k,T,t,r,sigma)\n",
    "    r_p = rho_put(St,k,T,t,r,sigma)\n",
    "    g   = gamma(St,k,T,t,r,sigma)\n",
    "    van = vanna(St,k,T,t,r,sigma)\n",
    "    vol = volga(St,k,T,t,r,sigma)\n",
    "    col = color(St,k,T,t,r,sigma)\n",
    "    return print(d_c,col)"
   ]
  },
  {
   "cell_type": "code",
   "execution_count": null,
   "id": "9e2f3fb7-c9f2-4f5b-88f7-611bfc39dcb8",
   "metadata": {},
   "outputs": [],
   "source": [
    "delta_call(St,k,T,t,r,sigma)"
   ]
  },
  {
   "cell_type": "code",
   "execution_count": null,
   "id": "b7919302-fac6-49ff-a63e-c0362dee40bc",
   "metadata": {},
   "outputs": [],
   "source": [
    "delta_put(St,k,T,t,r,sigma)"
   ]
  },
  {
   "cell_type": "code",
   "execution_count": null,
   "id": "a0eb96cc-5111-47a5-8dbc-64bc7c7c5116",
   "metadata": {},
   "outputs": [],
   "source": [
    "vega(St,k,T,t,r,sigma)"
   ]
  },
  {
   "cell_type": "code",
   "execution_count": null,
   "id": "77edaed9-9c55-4f6a-8e68-c48bbe9194f8",
   "metadata": {},
   "outputs": [],
   "source": [
    "theta_call(St,k,T,t,r,sigma)"
   ]
  },
  {
   "cell_type": "code",
   "execution_count": null,
   "id": "91c74780-f014-45f6-8489-6731c01b6a27",
   "metadata": {},
   "outputs": [],
   "source": [
    "theta_put(St,k,T,t,r,sigma)"
   ]
  },
  {
   "cell_type": "code",
   "execution_count": null,
   "id": "1644e132-1f9a-482b-a37e-0c25f6c61ef3",
   "metadata": {},
   "outputs": [],
   "source": [
    "rho_call(St,k,T,t,r,sigma)"
   ]
  },
  {
   "cell_type": "code",
   "execution_count": null,
   "id": "7608e5c9-8487-4350-b340-a33c029b4491",
   "metadata": {},
   "outputs": [],
   "source": [
    "rho_put(St,k,T,t,r,sigma)"
   ]
  },
  {
   "cell_type": "code",
   "execution_count": null,
   "id": "2fa8ea64-4b7e-4fed-bedd-eaf374bc99a7",
   "metadata": {},
   "outputs": [],
   "source": [
    "gamma(St,k,T,t,r,sigma)"
   ]
  },
  {
   "cell_type": "code",
   "execution_count": null,
   "id": "84c070cc-805b-4296-9016-e229eb93bbff",
   "metadata": {},
   "outputs": [],
   "source": [
    "vanna(St,k,T,t,r,sigma)"
   ]
  },
  {
   "cell_type": "code",
   "execution_count": null,
   "id": "7d247257-a989-45e4-9aee-a2dfbc5f52c5",
   "metadata": {},
   "outputs": [],
   "source": [
    "volga(St,k,T,t,r,sigma)"
   ]
  },
  {
   "cell_type": "code",
   "execution_count": null,
   "id": "5ef3d029-e354-4449-b58a-8a855df4b274",
   "metadata": {},
   "outputs": [],
   "source": [
    "color(St,k,T,t,r,sigma)"
   ]
  }
 ],
 "metadata": {
  "kernelspec": {
   "display_name": "Python 3 (ipykernel)",
   "language": "python",
   "name": "python3"
  },
  "language_info": {
   "codemirror_mode": {
    "name": "ipython",
    "version": 3
   },
   "file_extension": ".py",
   "mimetype": "text/x-python",
   "name": "python",
   "nbconvert_exporter": "python",
   "pygments_lexer": "ipython3",
   "version": "3.9.7"
  }
 },
 "nbformat": 4,
 "nbformat_minor": 5
}
