{
 "cells": [
  {
   "cell_type": "markdown",
   "metadata": {},
   "source": [
    "<center><font color=#555555><font size=6> Finanazas Cuantittivas </font> <br> <br>\n",
    "    \n",
    "<center><font color=#555555><font size=5> Financial Engineering </font> <br> <br> <br> <br>\n",
    "\n",
    "<center><font color=#555555><font size=6> I.F. Juan Pablo Rodriguez<br><br>\n",
    "                                          I.F. Maximiliano Bylon<br><br>\n",
    "                                          I.F. Andrés Ramierez<br><br>\n",
    "                                          I.F. Iván Arellano</font> <br> <br>\n",
    "\n",
    "<center> <font color= #555555> <font size = 4> Apr 2022 </a> | <font color= #555555> <font size = 4> Repository: <a href='https://github.com/IvanArellanoRuelas/DERIVATECH'>Link</a></font>"
   ]
  },
  {
   "cell_type": "code",
   "execution_count": 1,
   "metadata": {},
   "outputs": [
    {
     "name": "stdout",
     "output_type": "stream",
     "text": [
      "Basic Materials\n"
     ]
    },
    {
     "name": "stderr",
     "output_type": "stream",
     "text": [
      "100%|██████████████████████████████████████████████████████████████████████████████████| 13/13 [00:03<00:00,  3.33it/s]\n"
     ]
    }
   ],
   "source": [
    "from tkinter import *\n",
    "from tkinter import ttk\n",
    "import numpy as np\n",
    "import pandas as pd\n",
    "from scipy.stats import norm\n",
    "from yahoofinancials import YahooFinancials\n",
    "import plotly.express as px\n",
    "import scipy.optimize as opt\n",
    "import pandas_datareader.data as web\n",
    "import datetime as date\n",
    "import mplfinance as mpf\n",
    "import yfinance as yf\n",
    "from scipy.stats import norm\n",
    "import matplotlib.pyplot as plt\n",
    "import data as dt\n",
    "import Funciones as f\n",
    "from scipy.stats import norm\n",
    "import scipy.stats as sta"
   ]
  },
  {
   "cell_type": "code",
   "execution_count": 2,
   "metadata": {},
   "outputs": [],
   "source": [
    "tickerr = dt.Tickets[:7]"
   ]
  },
  {
   "cell_type": "code",
   "execution_count": 3,
   "metadata": {},
   "outputs": [],
   "source": [
    "#tickerr = [\"AAPL\", \"FB\", \"SHOP\", \"C\", \"AMZN\", \"MSFT\", \"EPD\", \"KO\", \"TSLA\",\"WMT\"]\n",
    "prices = web.DataReader(name = tickerr, data_source = \"yahoo\",\n",
    "              start= \"2022-01-01\")[\"Adj Close\"].dropna()"
   ]
  },
  {
   "cell_type": "code",
   "execution_count": 4,
   "metadata": {},
   "outputs": [],
   "source": [
    "#pip install --upgrade yfinance"
   ]
  },
  {
   "cell_type": "code",
   "execution_count": 5,
   "metadata": {
    "scrolled": false
   },
   "outputs": [
    {
     "name": "stdout",
     "output_type": "stream",
     "text": [
      "[*********************100%***********************]  1 of 1 completed\n",
      "[*********************100%***********************]  1 of 1 completed\n",
      "[*********************100%***********************]  1 of 1 completed\n",
      "[*********************100%***********************]  1 of 1 completed\n",
      "[*********************100%***********************]  1 of 1 completed\n",
      "[*********************100%***********************]  1 of 1 completed\n",
      "[*********************100%***********************]  1 of 1 completed\n"
     ]
    }
   ],
   "source": [
    "resultado=np.zeros(len(tickerr))\n",
    "for i in range(len(tickerr)):\n",
    "    datos=yf.download(tickerr[i], period='1d', interval='1m')\n",
    "    price=datos.iloc[-1,3]\n",
    "    resultado[i]=price"
   ]
  },
  {
   "cell_type": "code",
   "execution_count": 6,
   "metadata": {},
   "outputs": [],
   "source": [
    "prices.iloc[-1,:] = resultado\n"
   ]
  },
  {
   "cell_type": "code",
   "execution_count": 7,
   "metadata": {},
   "outputs": [],
   "source": [
    "#Analisis RSI \n",
    "# data = yf.download(tickers, period='1d', interval='1m')\n",
    "data = prices\n",
    "\n",
    "RSII = pd.DataFrame()\n",
    "for i in range(len(tickerr)):\n",
    "    \n",
    "    delta = data.iloc[:,i].diff(1)\n",
    "    delta.dropna(inplace=True)\n",
    "\n",
    "    positive = delta.copy()\n",
    "    negative = delta.copy()\n",
    "\n",
    "    positive[positive < 0 ]=0\n",
    "    negative[negative > 0 ]=0\n",
    "    days = 14\n",
    "    avrg_gain = positive.rolling(window=days).mean()\n",
    "    avrg_loss = abs(negative.rolling(window=days).mean())\n",
    "\n",
    "    rltv_strength = avrg_gain/avrg_loss\n",
    "    RSI = 100-(100/(1+rltv_strength))\n",
    "\n",
    "    combined = pd.DataFrame()\n",
    "    combined[\"Close\"] =  data.iloc[:,i]\n",
    "    combined[\"RSI\"] = RSI\n",
    "    RSII[i] = RSI\n",
    "\n",
    "    \n",
    "RSII  = pd.DataFrame(RSII)\n",
    "RSII.columns = tickerr\n",
    "RSI_HOY = RSII.iloc[len(RSII)-1,:]"
   ]
  },
  {
   "cell_type": "code",
   "execution_count": 8,
   "metadata": {},
   "outputs": [],
   "source": [
    "RSI_HOY=pd.DataFrame(RSI_HOY)"
   ]
  },
  {
   "cell_type": "code",
   "execution_count": 9,
   "metadata": {},
   "outputs": [],
   "source": [
    "ws  = Tk()\n",
    "ws.title('RSI Analysis')\n",
    "ws.geometry('500x500')\n",
    "#ws['bg'] = '#AC99F2'\n",
    "game_frame = Frame(ws)\n",
    "game_frame.pack()\n",
    "my_game = ttk.Treeview(game_frame)\n",
    "my_game['columns'] = ('TICKER','STATUS','PRICE')\n",
    "\n",
    "my_game.column(\"#0\", width=0,  stretch=NO)\n",
    "my_game.column(\"TICKER\",anchor=CENTER, width=80)\n",
    "my_game.column(\"STATUS\",anchor=CENTER,width=80)\n",
    "my_game.column(\"PRICE\",anchor=CENTER,width=80)\n",
    "\n",
    "my_game.heading(\"#0\",text=\"\",anchor=CENTER)\n",
    "my_game.heading(\"TICKER\",text=\"TICKER\",anchor=CENTER)\n",
    "my_game.heading(\"STATUS\",text=\"STATUS\",anchor=CENTER)\n",
    "my_game.heading(\"PRICE\",text=\"PRICE\",anchor=CENTER)\n",
    "\n",
    "for i in range(len(tickerr)-1):\n",
    "    if(RSI_HOY.iloc[i,0]<30):\n",
    "        my_game.insert(parent='',index='end',text='', values=(tickerr[i],'BUY',np.round((resultado[i]),4)))\n",
    "    if(RSI_HOY.iloc[i,0]>70):\n",
    "        my_game.insert(parent='',index='end',text='', values=(tickerr[i],'SELL',np.round((resultado[i]),4)))\n",
    "    if((RSI_HOY.iloc[i,0]>=30) & (RSI_HOY.iloc[i,0]<=70)):\n",
    "        my_game.insert(parent='',index='end',text='', values=(tickerr[i],'HOLD',np.round((resultado[i]),4)))\n",
    "\n",
    "my_game.pack()\n",
    "\n",
    "import tkinter\n",
    "\n",
    "Etiqueta = ttk.Label(ws,text='Select your stock')\n",
    "Etiqueta.pack()\n",
    "\n",
    "n = tkinter.StringVar(ws)\n",
    "n.set(tickerr[0])\n",
    "\n",
    "seleccion = tkinter.OptionMenu(ws,n,*tickerr)\n",
    "seleccion.pack()\n",
    "\n",
    "def Close():\n",
    "    a = n.get()\n",
    "    ws.destroy()\n",
    "\n",
    "exit_button = tkinter.Button(ws, text=\"Choose\", command= lambda :Close())\n",
    "exit_button.pack(pady=20)\n",
    "\n",
    "    \n",
    "ws.mainloop()\n",
    "\n",
    "\n",
    "activo = n.get()"
   ]
  },
  {
   "cell_type": "code",
   "execution_count": 10,
   "metadata": {},
   "outputs": [
    {
     "name": "stdout",
     "output_type": "stream",
     "text": [
      "[*********************100%***********************]  1 of 1 completed\n"
     ]
    }
   ],
   "source": [
    "resultado=np.zeros(len(activo))\n",
    "datos=yf.download(activo, period='1d', interval='1m')\n",
    "price=datos.iloc[-1,3]\n",
    "st = price   "
   ]
  },
  {
   "cell_type": "code",
   "execution_count": 11,
   "metadata": {},
   "outputs": [],
   "source": [
    "def griegas(r,sigma,st,k,T=1,t=0):\n",
    "    d_c = f.delta_call(St,k,T,t,r,sigma)\n",
    "    d_p = f.delta_put(St,k,T,t,r,sigma)\n",
    "    v   = f.vega(St,k,T,t,r,sigma)\n",
    "    t_c = f.theta_call(St,k,T,t,r,sigma)\n",
    "    t_p = f.theta_put(St,k,T,t,r,sigma)\n",
    "    r_c = f.rho_call(St,k,T,t,r,sigma)\n",
    "    r_p = f.rho_put(St,k,T,t,r,sigma)\n",
    "    g   = f.gamma(St,k,T,t,r,sigma)\n",
    "    van = f.vanna(St,k,T,t,r,sigma)\n",
    "    vol = f.volga(St,k,T,t,r,sigma)\n",
    "    col = f.color(St,k,T,t,r,sigma)\n",
    "    \n",
    "    \n",
    "    return d_c,d_p,v,t_c,t_p,r_c,r_p,g,van,vol,col"
   ]
  },
  {
   "cell_type": "code",
   "execution_count": 12,
   "metadata": {},
   "outputs": [
    {
     "name": "stdout",
     "output_type": "stream",
     "text": [
      "[*********************100%***********************]  1 of 1 completed\n",
      "[*********************100%***********************]  1 of 1 completed\n",
      "[*********************100%***********************]  1 of 1 completed\n",
      "[*********************100%***********************]  1 of 1 completed\n",
      "[*********************100%***********************]  1 of 1 completed\n"
     ]
    }
   ],
   "source": [
    "#ITERACIÓN\n",
    "import time \n",
    "\n",
    "\n",
    "contador = 0\n",
    "while contador < 5:\n",
    "    \n",
    "\n",
    "    resultado=np.zeros(len(activo))\n",
    "    datos=yf.download(activo, period='1d', interval='1m')\n",
    "    price=datos.iloc[-1,3]\n",
    "    st = price \n",
    "\n",
    "    r = .0852\n",
    "    T = 1\n",
    "    t = 0\n",
    "    ret_log = np.log(datos.iloc[:,3]/datos.iloc[:,3].shift(1)).dropna()\n",
    "    cambio_porcentual_anual = ret_log.iloc[-1]*(252)\n",
    "    sigma = np.std(ret_log)*np.sqrt(252)\n",
    "    St = st \n",
    "    k = [St,St*(1+sigma),St*(1+2*sigma),St*(1-sigma),St*(1-2*sigma)]\n",
    "\n",
    "    d1= [(np.log(St/k[i])+(r +0.5*sigma**2)*(T-t))/(sigma*np.sqrt(T-t)) for i in range(0,len(k))]\n",
    "    d2= [(np.log(St/k[i])+(r -0.5*sigma**2)*(T-t))/(sigma*np.sqrt(T-t)) for i in range(0,len(k))]\n",
    "\n",
    "    precio_justo_call = [st*sta.norm.cdf(d1[i],0,1)-k[i]*np.exp(-r*(T-t))*sta.norm.cdf(d2[i],0,1) for i in range(0,len(d1))]\n",
    "    precio_justo_put = [k[i]*np.exp(-r*(T-t))*sta.norm.cdf(-d2[i],0,1)-st*sta.norm.cdf(-d1[i],0,1) for i in range(0,len(d1))]\n",
    "\n",
    "\n",
    "    k = np.round(k,3)\n",
    "    precio_justo_call = precio_justo_call\n",
    "    precio_justo_put = precio_justo_put\n",
    "\n",
    "\n",
    "    a = [griegas(r,sigma,st,k[i],T=1,t=0) for i in range(0,len(k))]\n",
    "    a = a\n",
    "\n",
    "\n",
    "    k1 = [0,k[0],precio_justo_call[0],precio_justo_put[0],a[0][0],a[0][1],a[0][2],a[0][3],a[0][4],\n",
    "         a[0][5],a[0][6],a[0][7],a[0][8],a[0][9],a[0][10]]\n",
    "\n",
    "    k2 = [0,k[1],precio_justo_call[1],precio_justo_put[1],a[1][0],a[1][1],a[1][2],a[1][3],a[1][4],\n",
    "         a[1][5],a[1][6],a[1][7],a[1][8],a[1][9],a[1][10]]\n",
    "\n",
    "    k3 = [0,k[2],precio_justo_call[2],precio_justo_put[2],a[2][0],a[2][1],a[2][2],a[2][3],a[2][4],\n",
    "         a[2][5],a[2][6],a[2][7],a[2][8],a[2][9],a[2][10]]\n",
    "\n",
    "    k4 = [0,k[3],precio_justo_call[3],precio_justo_put[3],a[3][0],a[3][1],a[3][2],a[3][3],a[3][4],\n",
    "         a[3][5],a[3][6],a[3][7],a[3][8],a[3][9],a[3][10]]\n",
    "\n",
    "\n",
    "    k5 = [0,k[4],precio_justo_call[4],precio_justo_put[4],a[4][0],a[4][1],a[4][2],a[4][3],a[4][4],\n",
    "         a[4][5],a[4][6],a[4][7],a[4][8],a[4][9],a[4][10]]\n",
    "\n",
    "\n",
    "    ws  = Tk()\n",
    "    ws.title('Griegas '+activo)\n",
    "\n",
    "    #ws['bg'] = '#AC99F2'\n",
    "    game_frame = Frame(ws)\n",
    "    game_frame.pack()\n",
    "    my_game = ttk.Treeview(game_frame)\n",
    "    my_game['columns'] = ('p','k','call','put','Delta_Call','Delta_put','Vega','Theta_call'\n",
    "                               ,'Theta_put','rho_call','rho_put','gamma',\n",
    "                              'vanna','volga','color')\n",
    "\n",
    "    my_game.column(\"p\", width=0,  stretch=NO)\n",
    "    my_game.column(\"k\",anchor=CENTER, width=80)\n",
    "    my_game.column(\"call\",anchor=CENTER, width=80)\n",
    "    my_game.column(\"put\",anchor=CENTER, width=80)\n",
    "    my_game.column(\"Delta_Call\",anchor=CENTER, width=80)\n",
    "    my_game.column(\"Delta_put\",anchor=CENTER,width=80)\n",
    "    my_game.column(\"Vega\",anchor=CENTER,width=80)\n",
    "    my_game.column(\"Theta_call\",anchor=CENTER,width=80)\n",
    "    my_game.column(\"Theta_put\",anchor=CENTER,width=80)\n",
    "    my_game.column(\"rho_call\",anchor=CENTER,width=80)\n",
    "    my_game.column(\"rho_put\",anchor=CENTER,width=80)\n",
    "    my_game.column(\"gamma\",anchor=CENTER,width=80)\n",
    "    my_game.column(\"vanna\",anchor=CENTER,width=80)\n",
    "    my_game.column(\"volga\",anchor=CENTER,width=80)\n",
    "    my_game.column(\"color\",anchor=CENTER,width=80)\n",
    "\n",
    "    my_game.heading(\"p\",text=\" \",anchor=CENTER)\n",
    "    my_game.heading(\"k\",text=\"k\",anchor=CENTER)\n",
    "    my_game.heading(\"call\",text=\"call\",anchor=CENTER)\n",
    "    my_game.heading(\"put\",text=\"put\",anchor=CENTER)\n",
    "    my_game.heading(\"Delta_Call\",text=\"Delta_Call\",anchor=CENTER)\n",
    "    my_game.heading(\"Delta_put\",text=\"Delta_put\",anchor=CENTER)\n",
    "    my_game.heading(\"Vega\",text=\"Vega\",anchor=CENTER)\n",
    "    my_game.heading(\"Theta_call\",text=\"Theta_call\",anchor=CENTER)\n",
    "    my_game.heading(\"Theta_put\",text=\"Theta_put\",anchor=CENTER)\n",
    "    my_game.heading(\"rho_call\",text=\"rho_call\",anchor=CENTER)\n",
    "    my_game.heading(\"rho_put\",text=\"rho_put\",anchor=CENTER)\n",
    "    my_game.heading(\"gamma\",text=\"gamma\",anchor=CENTER)\n",
    "    my_game.heading(\"vanna\",text=\"vanna\",anchor=CENTER)\n",
    "    my_game.heading(\"volga\",text=\"volga\",anchor=CENTER)\n",
    "    my_game.heading(\"color\",text=\"color\",anchor=CENTER)\n",
    "\n",
    "    my_game.insert(parent='',index='end',text='', values=(k1))\n",
    "    my_game.insert(parent='',index='end',text='', values=(k2))\n",
    "    my_game.insert(parent='',index='end',text='', values=(k3))\n",
    "    my_game.insert(parent='',index='end',text='', values=(k4))\n",
    "    my_game.insert(parent='',index='end',text='', values=(k5))\n",
    "    my_game.pack()\n",
    "    \n",
    "    # Se actualizara la tabla \n",
    "    def cerrar():\n",
    "        ws.destroy()\n",
    "    \n",
    "    ws.after(90000,cerrar)\n",
    "    contador = contador+1 \n",
    "    ws.mainloop()\n",
    "\n",
    "    \n",
    "        \n",
    "    #ws.destroy()\n",
    "    \n",
    "    "
   ]
  },
  {
   "cell_type": "markdown",
   "metadata": {},
   "source": [
    "Coberturas \n",
    "opcciones call o put "
   ]
  }
 ],
 "metadata": {
  "kernelspec": {
   "display_name": "Python 3 (ipykernel)",
   "language": "python",
   "name": "python3"
  },
  "language_info": {
   "codemirror_mode": {
    "name": "ipython",
    "version": 3
   },
   "file_extension": ".py",
   "mimetype": "text/x-python",
   "name": "python",
   "nbconvert_exporter": "python",
   "pygments_lexer": "ipython3",
   "version": "3.9.7"
  }
 },
 "nbformat": 4,
 "nbformat_minor": 2
}
