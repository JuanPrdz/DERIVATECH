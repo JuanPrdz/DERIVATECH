{
 "cells": [
  {
   "cell_type": "code",
   "execution_count": 1,
   "metadata": {},
   "outputs": [
    {
     "name": "stdout",
     "output_type": "stream",
     "text": [
      "Requirement already satisfied: pyinstaller in c:\\users\\jonha\\anaconda3\\lib\\site-packages (5.0.1)\n",
      "Requirement already satisfied: pywin32-ctypes>=0.2.0 in c:\\users\\jonha\\anaconda3\\lib\\site-packages (from pyinstaller) (0.2.0)\n",
      "Requirement already satisfied: setuptools in c:\\users\\jonha\\anaconda3\\lib\\site-packages (from pyinstaller) (41.4.0)\n",
      "Requirement already satisfied: importlib-metadata in c:\\users\\jonha\\anaconda3\\lib\\site-packages (from pyinstaller) (0.23)\n",
      "Requirement already satisfied: pyinstaller-hooks-contrib>=2020.6 in c:\\users\\jonha\\anaconda3\\lib\\site-packages (from pyinstaller) (2022.4)\n",
      "Requirement already satisfied: altgraph in c:\\users\\jonha\\anaconda3\\lib\\site-packages (from pyinstaller) (0.17.2)\n",
      "Requirement already satisfied: pefile>=2017.8.1 in c:\\users\\jonha\\anaconda3\\lib\\site-packages (from pyinstaller) (2021.9.3)\n",
      "Requirement already satisfied: future in c:\\users\\jonha\\anaconda3\\lib\\site-packages (from pefile>=2017.8.1->pyinstaller) (0.17.1)\n",
      "Requirement already satisfied: zipp>=0.5 in c:\\users\\jonha\\anaconda3\\lib\\site-packages (from importlib-metadata->pyinstaller) (0.6.0)\n",
      "Requirement already satisfied: more-itertools in c:\\users\\jonha\\anaconda3\\lib\\site-packages (from zipp>=0.5->importlib-metadata->pyinstaller) (7.2.0)\n",
      "Note: you may need to restart the kernel to use updated packages.\n"
     ]
    }
   ],
   "source": [
    "pip install pyinstaller"
   ]
  },
  {
   "cell_type": "code",
   "execution_count": 6,
   "metadata": {},
   "outputs": [
    {
     "ename": "SyntaxError",
     "evalue": "invalid syntax (<ipython-input-6-1ba31ef1606d>, line 1)",
     "output_type": "error",
     "traceback": [
      "\u001b[1;36m  File \u001b[1;32m\"<ipython-input-6-1ba31ef1606d>\"\u001b[1;36m, line \u001b[1;32m1\u001b[0m\n\u001b[1;33m    pyinstaller Back_testing_3\u001b[0m\n\u001b[1;37m                             ^\u001b[0m\n\u001b[1;31mSyntaxError\u001b[0m\u001b[1;31m:\u001b[0m invalid syntax\n"
     ]
    }
   ],
   "source": [
    "pyinstaller Back_testing_3"
   ]
  }
 ],
 "metadata": {
  "kernelspec": {
   "display_name": "Python 3",
   "language": "python",
   "name": "python3"
  },
  "language_info": {
   "codemirror_mode": {
    "name": "ipython",
    "version": 3
   },
   "file_extension": ".py",
   "mimetype": "text/x-python",
   "name": "python",
   "nbconvert_exporter": "python",
   "pygments_lexer": "ipython3",
   "version": "3.7.4"
  }
 },
 "nbformat": 4,
 "nbformat_minor": 2
}
