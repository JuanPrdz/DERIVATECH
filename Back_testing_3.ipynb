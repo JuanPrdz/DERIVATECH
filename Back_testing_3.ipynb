{
 "cells": [
  {
   "cell_type": "code",
   "execution_count": 1,
   "metadata": {},
   "outputs": [
    {
     "name": "stdout",
     "output_type": "stream",
     "text": [
      "Basic Materials\n"
     ]
    },
    {
     "name": "stderr",
     "output_type": "stream",
     "text": [
      "100%|██████████████████████████████████████████████████████████████████████████████████| 13/13 [00:03<00:00,  3.27it/s]\n"
     ]
    }
   ],
   "source": [
    "from tkinter import *\n",
    "from tkinter import ttk\n",
    "import numpy as np\n",
    "import pandas as pd\n",
    "from scipy.stats import norm\n",
    "from yahoofinancials import YahooFinancials\n",
    "import plotly.express as px\n",
    "import scipy.optimize as opt\n",
    "import pandas_datareader.data as web\n",
    "import datetime as date\n",
    "import mplfinance as mpf\n",
    "import yfinance as yf\n",
    "from scipy.stats import norm\n",
    "import matplotlib.pyplot as plt\n",
    "import data as dt\n",
    "import Funciones as f\n",
    "from scipy.stats import norm\n",
    "import scipy.stats as sta\n",
    "\n",
    "from finviz.screener import Screener\n",
    "import finviz\n",
    "import Pruebas1 as iv"
   ]
  },
  {
   "cell_type": "code",
   "execution_count": 2,
   "metadata": {},
   "outputs": [],
   "source": [
    "valor=True"
   ]
  },
  {
   "cell_type": "code",
   "execution_count": 3,
   "metadata": {},
   "outputs": [],
   "source": [
    "tickerr = dt.Tickets[:10]"
   ]
  },
  {
   "cell_type": "code",
   "execution_count": 4,
   "metadata": {},
   "outputs": [],
   "source": [
    "#tickerr = [\"AAPL\", \"FB\", \"SHOP\", \"C\", \"AMZN\", \"MSFT\", \"EPD\", \"KO\", \"TSLA\",\"WMT\"]\n",
    "prices = web.DataReader(name = tickerr, data_source = \"yahoo\",\n",
    "              start= \"2022-01-01\")[\"Adj Close\"].dropna()"
   ]
  },
  {
   "cell_type": "code",
   "execution_count": 5,
   "metadata": {},
   "outputs": [],
   "source": [
    "#pip install --upgrade yfinance"
   ]
  },
  {
   "cell_type": "code",
   "execution_count": 6,
   "metadata": {},
   "outputs": [
    {
     "name": "stdout",
     "output_type": "stream",
     "text": [
      "[*********************100%***********************]  1 of 1 completed\n",
      "[*********************100%***********************]  1 of 1 completed\n",
      "[*********************100%***********************]  1 of 1 completed\n",
      "[*********************100%***********************]  1 of 1 completed\n",
      "[*********************100%***********************]  1 of 1 completed\n",
      "[*********************100%***********************]  1 of 1 completed\n",
      "[*********************100%***********************]  1 of 1 completed\n",
      "[*********************100%***********************]  1 of 1 completed\n",
      "[*********************100%***********************]  1 of 1 completed\n",
      "[*********************100%***********************]  1 of 1 completed\n"
     ]
    }
   ],
   "source": [
    "resultado=np.zeros(len(tickerr))\n",
    "for i in range(len(tickerr)):\n",
    "    datos=yf.download(tickerr[i], period='1d', interval='1m')\n",
    "    price=datos.iloc[-1,3]\n",
    "    resultado[i]=price"
   ]
  },
  {
   "cell_type": "code",
   "execution_count": 7,
   "metadata": {},
   "outputs": [],
   "source": [
    "test = prices\n",
    "mausherramienta = test.iloc[-24:,:]"
   ]
  },
  {
   "cell_type": "code",
   "execution_count": null,
   "metadata": {},
   "outputs": [],
   "source": []
  },
  {
   "cell_type": "code",
   "execution_count": 8,
   "metadata": {},
   "outputs": [
    {
     "name": "stderr",
     "output_type": "stream",
     "text": [
      "C:\\Users\\ivana\\anaconda3\\lib\\site-packages\\pandas\\core\\indexing.py:1732: SettingWithCopyWarning: \n",
      "A value is trying to be set on a copy of a slice from a DataFrame\n",
      "\n",
      "See the caveats in the documentation: https://pandas.pydata.org/pandas-docs/stable/user_guide/indexing.html#returning-a-view-versus-a-copy\n",
      "  self._setitem_single_block(indexer, value, name)\n",
      "C:\\Users\\ivana\\anaconda3\\lib\\site-packages\\pandas\\core\\indexing.py:723: SettingWithCopyWarning: \n",
      "A value is trying to be set on a copy of a slice from a DataFrame\n",
      "\n",
      "See the caveats in the documentation: https://pandas.pydata.org/pandas-docs/stable/user_guide/indexing.html#returning-a-view-versus-a-copy\n",
      "  iloc._setitem_with_indexer(indexer, value, self.name)\n"
     ]
    }
   ],
   "source": [
    "mausherramienta.iloc[0,:] = resultado"
   ]
  },
  {
   "cell_type": "code",
   "execution_count": 9,
   "metadata": {},
   "outputs": [],
   "source": [
    "#Analisis RSI \n",
    "# data = yf.download(tickers, period='1d', interval='1m')\n",
    "data = mausherramienta\n",
    "\n",
    "RSII = pd.DataFrame()\n",
    "for i in range(len(tickerr)):\n",
    "    \n",
    "    delta = data.iloc[:,i].diff(1)\n",
    "    delta.dropna(inplace=valor)\n",
    "\n",
    "    positive = delta.copy()\n",
    "    negative = delta.copy()\n",
    "\n",
    "    positive[positive < 0 ]=0\n",
    "    negative[negative > 0 ]=0\n",
    "    days = 14\n",
    "    avrg_gain = positive.rolling(window=days).mean()\n",
    "    avrg_loss = abs(negative.rolling(window=days).mean())\n",
    "\n",
    "    rltv_strength = avrg_gain/avrg_loss\n",
    "    RSI = 100-(100/(1+rltv_strength))\n",
    "\n",
    "    combined = pd.DataFrame()\n",
    "    combined[\"Close\"] =  data.iloc[:,i]\n",
    "    combined[\"RSI\"] = RSI\n",
    "    RSII[i] = RSI\n",
    "\n",
    "    \n",
    "RSII  = pd.DataFrame(RSII)\n",
    "RSII.columns = tickerr\n",
    "RSI_HOY = RSII.iloc[len(RSII)-1,:]"
   ]
  },
  {
   "cell_type": "code",
   "execution_count": 10,
   "metadata": {},
   "outputs": [],
   "source": [
    "RSI_HOY=pd.DataFrame(RSI_HOY)"
   ]
  },
  {
   "cell_type": "code",
   "execution_count": 11,
   "metadata": {},
   "outputs": [],
   "source": [
    "ws  = Tk()\n",
    "ws.title('RSI Analysis')\n",
    "ws.geometry('500x500')\n",
    "#ws['bg'] = '#AC99F2'\n",
    "game_frame = Frame(ws)\n",
    "game_frame.pack()\n",
    "my_game = ttk.Treeview(game_frame)\n",
    "my_game['columns'] = ('TICKER','STATUS','PRICE')\n",
    "\n",
    "my_game.column(\"#0\", width=0,  stretch=NO)\n",
    "my_game.column(\"TICKER\",anchor=CENTER, width=80)\n",
    "my_game.column(\"STATUS\",anchor=CENTER,width=80)\n",
    "my_game.column(\"PRICE\",anchor=CENTER,width=80)\n",
    "\n",
    "my_game.heading(\"#0\",text=\"\",anchor=CENTER)\n",
    "my_game.heading(\"TICKER\",text=\"TICKER\",anchor=CENTER)\n",
    "my_game.heading(\"STATUS\",text=\"STATUS\",anchor=CENTER)\n",
    "my_game.heading(\"PRICE\",text=\"PRICE\",anchor=CENTER)\n",
    "\n",
    "for i in range(len(tickerr)-1):\n",
    "    if(RSI_HOY.iloc[i,0]<30):\n",
    "        my_game.insert(parent='',index='end',text='', values=(tickerr[i],'BUY',np.round((resultado[i]),4)))\n",
    "    if(RSI_HOY.iloc[i,0]>70):\n",
    "        my_game.insert(parent='',index='end',text='', values=(tickerr[i],'SELL',np.round((resultado[i]),4)))\n",
    "    if((RSI_HOY.iloc[i,0]>=30) & (RSI_HOY.iloc[i,0]<=70)):\n",
    "        my_game.insert(parent='',index='end',text='', values=(tickerr[i],'HOLD',np.round((resultado[i]),4)))\n",
    "\n",
    "my_game.pack()\n",
    "\n",
    "import tkinter\n",
    "\n",
    "Etiqueta = ttk.Label(ws,text='Select your stock')\n",
    "Etiqueta.pack()\n",
    "\n",
    "n = tkinter.StringVar(ws)\n",
    "n.set(tickerr[0])\n",
    "\n",
    "seleccion = tkinter.OptionMenu(ws,n,*tickerr)\n",
    "seleccion.pack()\n",
    "\n",
    "def Close():\n",
    "    a = n.get()\n",
    "    ws.destroy()\n",
    "\n",
    "exit_button = tkinter.Button(ws, text=\"Choose\", command= lambda :Close())\n",
    "exit_button.pack(pady=20)\n",
    "\n",
    "    \n",
    "ws.mainloop()\n",
    "\n",
    "\n",
    "activo = n.get()\n",
    "if (RSI_HOY.T[activo][0]<30):\n",
    "    Eleccion = 'Call'\n",
    "elif(RSI_HOY.T[activo][0]>70):\n",
    "    Eleccion = 'Put'\n",
    "else:\n",
    "    Eleccion = 'Call'\n"
   ]
  },
  {
   "cell_type": "code",
   "execution_count": 12,
   "metadata": {},
   "outputs": [
    {
     "data": {
      "text/plain": [
       "array([0., 0., 0., 0.])"
      ]
     },
     "execution_count": 12,
     "metadata": {},
     "output_type": "execute_result"
    }
   ],
   "source": [
    "np.zeros(len(activo))"
   ]
  },
  {
   "cell_type": "code",
   "execution_count": 13,
   "metadata": {},
   "outputs": [
    {
     "data": {
      "text/plain": [
       "19.940000534057617"
      ]
     },
     "execution_count": 13,
     "metadata": {},
     "output_type": "execute_result"
    }
   ],
   "source": [
    "resultado=np.zeros(len(activo))\n",
    "#datos=yf.download(activo, period='1d', interval='1m')\n",
    "price=datos.iloc[-30,3]\n",
    "st = mausherramienta[activo][1]\n",
    "st"
   ]
  },
  {
   "cell_type": "code",
   "execution_count": 14,
   "metadata": {},
   "outputs": [
    {
     "data": {
      "text/html": [
       "<div>\n",
       "<style scoped>\n",
       "    .dataframe tbody tr th:only-of-type {\n",
       "        vertical-align: middle;\n",
       "    }\n",
       "\n",
       "    .dataframe tbody tr th {\n",
       "        vertical-align: top;\n",
       "    }\n",
       "\n",
       "    .dataframe thead th {\n",
       "        text-align: right;\n",
       "    }\n",
       "</style>\n",
       "<table border=\"1\" class=\"dataframe\">\n",
       "  <thead>\n",
       "    <tr style=\"text-align: right;\">\n",
       "      <th></th>\n",
       "      <th>Open</th>\n",
       "      <th>High</th>\n",
       "      <th>Low</th>\n",
       "      <th>Close</th>\n",
       "      <th>Adj Close</th>\n",
       "      <th>Volume</th>\n",
       "    </tr>\n",
       "    <tr>\n",
       "      <th>Datetime</th>\n",
       "      <th></th>\n",
       "      <th></th>\n",
       "      <th></th>\n",
       "      <th></th>\n",
       "      <th></th>\n",
       "      <th></th>\n",
       "    </tr>\n",
       "  </thead>\n",
       "  <tbody>\n",
       "    <tr>\n",
       "      <th>2022-04-27 09:30:00-04:00</th>\n",
       "      <td>63.490002</td>\n",
       "      <td>63.849998</td>\n",
       "      <td>63.009998</td>\n",
       "      <td>63.619999</td>\n",
       "      <td>63.619999</td>\n",
       "      <td>18167</td>\n",
       "    </tr>\n",
       "    <tr>\n",
       "      <th>2022-04-27 09:31:00-04:00</th>\n",
       "      <td>63.790001</td>\n",
       "      <td>63.959999</td>\n",
       "      <td>63.740002</td>\n",
       "      <td>63.740002</td>\n",
       "      <td>63.740002</td>\n",
       "      <td>3626</td>\n",
       "    </tr>\n",
       "    <tr>\n",
       "      <th>2022-04-27 09:32:00-04:00</th>\n",
       "      <td>63.744999</td>\n",
       "      <td>63.744999</td>\n",
       "      <td>63.720001</td>\n",
       "      <td>63.720001</td>\n",
       "      <td>63.720001</td>\n",
       "      <td>612</td>\n",
       "    </tr>\n",
       "    <tr>\n",
       "      <th>2022-04-27 09:33:00-04:00</th>\n",
       "      <td>63.610001</td>\n",
       "      <td>63.610001</td>\n",
       "      <td>63.610001</td>\n",
       "      <td>63.610001</td>\n",
       "      <td>63.610001</td>\n",
       "      <td>217</td>\n",
       "    </tr>\n",
       "    <tr>\n",
       "      <th>2022-04-27 09:34:00-04:00</th>\n",
       "      <td>63.610001</td>\n",
       "      <td>63.610001</td>\n",
       "      <td>63.544998</td>\n",
       "      <td>63.544998</td>\n",
       "      <td>63.544998</td>\n",
       "      <td>666</td>\n",
       "    </tr>\n",
       "    <tr>\n",
       "      <th>...</th>\n",
       "      <td>...</td>\n",
       "      <td>...</td>\n",
       "      <td>...</td>\n",
       "      <td>...</td>\n",
       "      <td>...</td>\n",
       "      <td>...</td>\n",
       "    </tr>\n",
       "    <tr>\n",
       "      <th>2022-04-27 15:56:00-04:00</th>\n",
       "      <td>63.020000</td>\n",
       "      <td>63.035000</td>\n",
       "      <td>62.965000</td>\n",
       "      <td>62.980000</td>\n",
       "      <td>62.980000</td>\n",
       "      <td>6616</td>\n",
       "    </tr>\n",
       "    <tr>\n",
       "      <th>2022-04-27 15:57:00-04:00</th>\n",
       "      <td>63.000000</td>\n",
       "      <td>63.035000</td>\n",
       "      <td>62.970001</td>\n",
       "      <td>63.029999</td>\n",
       "      <td>63.029999</td>\n",
       "      <td>7053</td>\n",
       "    </tr>\n",
       "    <tr>\n",
       "      <th>2022-04-27 15:58:00-04:00</th>\n",
       "      <td>63.029999</td>\n",
       "      <td>63.029999</td>\n",
       "      <td>62.930000</td>\n",
       "      <td>62.970001</td>\n",
       "      <td>62.970001</td>\n",
       "      <td>8485</td>\n",
       "    </tr>\n",
       "    <tr>\n",
       "      <th>2022-04-27 15:59:00-04:00</th>\n",
       "      <td>62.980000</td>\n",
       "      <td>63.009998</td>\n",
       "      <td>62.880001</td>\n",
       "      <td>62.880001</td>\n",
       "      <td>62.880001</td>\n",
       "      <td>13888</td>\n",
       "    </tr>\n",
       "    <tr>\n",
       "      <th>2022-04-27 16:00:00-04:00</th>\n",
       "      <td>62.919998</td>\n",
       "      <td>62.919998</td>\n",
       "      <td>62.919998</td>\n",
       "      <td>62.919998</td>\n",
       "      <td>62.919998</td>\n",
       "      <td>0</td>\n",
       "    </tr>\n",
       "  </tbody>\n",
       "</table>\n",
       "<p>390 rows × 6 columns</p>\n",
       "</div>"
      ],
      "text/plain": [
       "                                Open       High        Low      Close  \\\n",
       "Datetime                                                                \n",
       "2022-04-27 09:30:00-04:00  63.490002  63.849998  63.009998  63.619999   \n",
       "2022-04-27 09:31:00-04:00  63.790001  63.959999  63.740002  63.740002   \n",
       "2022-04-27 09:32:00-04:00  63.744999  63.744999  63.720001  63.720001   \n",
       "2022-04-27 09:33:00-04:00  63.610001  63.610001  63.610001  63.610001   \n",
       "2022-04-27 09:34:00-04:00  63.610001  63.610001  63.544998  63.544998   \n",
       "...                              ...        ...        ...        ...   \n",
       "2022-04-27 15:56:00-04:00  63.020000  63.035000  62.965000  62.980000   \n",
       "2022-04-27 15:57:00-04:00  63.000000  63.035000  62.970001  63.029999   \n",
       "2022-04-27 15:58:00-04:00  63.029999  63.029999  62.930000  62.970001   \n",
       "2022-04-27 15:59:00-04:00  62.980000  63.009998  62.880001  62.880001   \n",
       "2022-04-27 16:00:00-04:00  62.919998  62.919998  62.919998  62.919998   \n",
       "\n",
       "                           Adj Close  Volume  \n",
       "Datetime                                      \n",
       "2022-04-27 09:30:00-04:00  63.619999   18167  \n",
       "2022-04-27 09:31:00-04:00  63.740002    3626  \n",
       "2022-04-27 09:32:00-04:00  63.720001     612  \n",
       "2022-04-27 09:33:00-04:00  63.610001     217  \n",
       "2022-04-27 09:34:00-04:00  63.544998     666  \n",
       "...                              ...     ...  \n",
       "2022-04-27 15:56:00-04:00  62.980000    6616  \n",
       "2022-04-27 15:57:00-04:00  63.029999    7053  \n",
       "2022-04-27 15:58:00-04:00  62.970001    8485  \n",
       "2022-04-27 15:59:00-04:00  62.880001   13888  \n",
       "2022-04-27 16:00:00-04:00  62.919998       0  \n",
       "\n",
       "[390 rows x 6 columns]"
      ]
     },
     "execution_count": 14,
     "metadata": {},
     "output_type": "execute_result"
    }
   ],
   "source": [
    "datos"
   ]
  },
  {
   "cell_type": "code",
   "execution_count": 15,
   "metadata": {},
   "outputs": [
    {
     "data": {
      "text/plain": [
       "63.130001068115234"
      ]
     },
     "execution_count": 15,
     "metadata": {},
     "output_type": "execute_result"
    }
   ],
   "source": [
    "price"
   ]
  },
  {
   "cell_type": "code",
   "execution_count": 16,
   "metadata": {},
   "outputs": [
    {
     "data": {
      "text/plain": [
       "19.940000534057617"
      ]
     },
     "execution_count": 16,
     "metadata": {},
     "output_type": "execute_result"
    }
   ],
   "source": [
    "st"
   ]
  },
  {
   "cell_type": "code",
   "execution_count": 17,
   "metadata": {},
   "outputs": [],
   "source": [
    "def griegas(r,sigma,st,k,T=1/12,t=0):\n",
    "    d_c = f.delta_call(St,k,T,t,r,sigma)\n",
    "    d_p = f.delta_put(St,k,T,t,r,sigma)\n",
    "    v   = f.vega(St,k,T,t,r,sigma)\n",
    "    t_c = f.theta_call(St,k,T,t,r,sigma)\n",
    "    t_p = f.theta_put(St,k,T,t,r,sigma)\n",
    "    r_c = f.rho_call(St,k,T,t,r,sigma)\n",
    "    r_p = f.rho_put(St,k,T,t,r,sigma)\n",
    "    g   = f.gamma(St,k,T,t,r,sigma)\n",
    "    van = f.vanna(St,k,T,t,r,sigma)\n",
    "    vol = f.volga(St,k,T,t,r,sigma)\n",
    "    col = f.color(St,k,T,t,r,sigma)\n",
    "    \n",
    "    \n",
    "    return d_c,d_p,v,t_c,t_p,r_c,r_p,g,van,vol,col"
   ]
  },
  {
   "cell_type": "code",
   "execution_count": null,
   "metadata": {},
   "outputs": [],
   "source": []
  },
  {
   "cell_type": "code",
   "execution_count": null,
   "metadata": {},
   "outputs": [
    {
     "name": "stdout",
     "output_type": "stream",
     "text": [
      "[*********************100%***********************]  1 of 1 completed\n"
     ]
    }
   ],
   "source": [
    "#ITERACIÓN\n",
    "import time \n",
    "\n",
    "\n",
    "contador = 0\n",
    "while contador < 5:\n",
    "    \n",
    "\n",
    "    resultado=np.zeros(len(activo))\n",
    "    datos=yf.download(activo, period='1d', interval='1m')\n",
    "    price=datos.iloc[-1,3]\n",
    "    st = mausherramienta\n",
    "\n",
    "    r = .0852\n",
    "    T = 1\n",
    "    t = 0\n",
    "    ret_log = np.log(datos.iloc[:,3]/datos.iloc[:,3].shift(1)).dropna()\n",
    "    cambio_porcentual_anual = ret_log.iloc[-1]*(252)\n",
    "    sigma = np.std(ret_log)*np.sqrt(252)\n",
    "    St = st \n",
    "    k = [St,St*(1+sigma),St*(1+2*sigma),St*(1-sigma),St*(1-2*sigma)]\n",
    "\n",
    "    d1= [(np.log(St/k[i])+(r +0.5*sigma**2)*(T-t))/(sigma*np.sqrt(T-t)) for i in range(0,len(k))]\n",
    "    d2= [(np.log(St/k[i])+(r -0.5*sigma**2)*(T-t))/(sigma*np.sqrt(T-t)) for i in range(0,len(k))]\n",
    "\n",
    "    precio_justo_call = [st*sta.norm.cdf(d1[i],0,1)-k[i]*np.exp(-r*(T-t))*sta.norm.cdf(d2[i],0,1) for i in range(0,len(d1))]\n",
    "    precio_justo_put = [k[i]*np.exp(-r*(T-t))*sta.norm.cdf(-d2[i],0,1)-st*sta.norm.cdf(-d1[i],0,1) for i in range(0,len(d1))]\n",
    "\n",
    "\n",
    "    k = np.round(k,3)\n",
    "    precio_justo_call = precio_justo_call\n",
    "    precio_justo_put = precio_justo_put\n",
    "\n",
    "\n",
    "    a = [griegas(r/12,sigma,st,k[i],T=1/12,t=0) for i in range(0,len(k))]\n",
    "    a = a\n",
    "\n",
    "\n",
    "    k1 = [0,k[0],precio_justo_call[0],precio_justo_put[0],a[0][0],a[0][1],a[0][2],a[0][3],a[0][4],\n",
    "         a[0][5],a[0][6],a[0][7],a[0][8],a[0][9],a[0][10]]\n",
    "\n",
    "    k2 = [0,k[1],precio_justo_call[1],precio_justo_put[1],a[1][0],a[1][1],a[1][2],a[1][3],a[1][4],\n",
    "         a[1][5],a[1][6],a[1][7],a[1][8],a[1][9],a[1][10]]\n",
    "\n",
    "    k3 = [0,k[2],precio_justo_call[2],precio_justo_put[2],a[2][0],a[2][1],a[2][2],a[2][3],a[2][4],\n",
    "         a[2][5],a[2][6],a[2][7],a[2][8],a[2][9],a[2][10]]\n",
    "\n",
    "    k4 = [0,k[3],precio_justo_call[3],precio_justo_put[3],a[3][0],a[3][1],a[3][2],a[3][3],a[3][4],\n",
    "         a[3][5],a[3][6],a[3][7],a[3][8],a[3][9],a[3][10]]\n",
    "\n",
    "\n",
    "    k5 = [0,k[4],precio_justo_call[4],precio_justo_put[4],a[4][0],a[4][1],a[4][2],a[4][3],a[4][4],\n",
    "         a[4][5],a[4][6],a[4][7],a[4][8],a[4][9],a[4][10]]\n",
    "\n",
    "\n",
    "    ws  = Tk()\n",
    "    ws.title('Griegas '+activo)\n",
    "\n",
    "    #ws['bg'] = '#AC99F2'\n",
    "    game_frame = Frame(ws)\n",
    "    game_frame.pack()\n",
    "    my_game = ttk.Treeview(game_frame)\n",
    "    my_game['columns'] = ('p','k','call','put','Delta_Call','Delta_put','Vega','Theta_call'\n",
    "                               ,'Theta_put','rho_call','rho_put','gamma',\n",
    "                              'vanna','volga','color')\n",
    "\n",
    "    my_game.column(\"p\", width=0,  stretch=NO)\n",
    "    my_game.column(\"k\",anchor=CENTER, width=80)\n",
    "    my_game.column(\"call\",anchor=CENTER, width=80)\n",
    "    my_game.column(\"put\",anchor=CENTER, width=80)\n",
    "    my_game.column(\"Delta_Call\",anchor=CENTER, width=80)\n",
    "    my_game.column(\"Delta_put\",anchor=CENTER,width=80)\n",
    "    my_game.column(\"Vega\",anchor=CENTER,width=80)\n",
    "    my_game.column(\"Theta_call\",anchor=CENTER,width=80)\n",
    "    my_game.column(\"Theta_put\",anchor=CENTER,width=80)\n",
    "    my_game.column(\"rho_call\",anchor=CENTER,width=80)\n",
    "    my_game.column(\"rho_put\",anchor=CENTER,width=80)\n",
    "    my_game.column(\"gamma\",anchor=CENTER,width=80)\n",
    "    my_game.column(\"vanna\",anchor=CENTER,width=80)\n",
    "    my_game.column(\"volga\",anchor=CENTER,width=80)\n",
    "    my_game.column(\"color\",anchor=CENTER,width=80)\n",
    "\n",
    "    my_game.heading(\"p\",text=\" \",anchor=CENTER)\n",
    "    my_game.heading(\"k\",text=\"k\",anchor=CENTER)\n",
    "    my_game.heading(\"call\",text=\"call\",anchor=CENTER)\n",
    "    my_game.heading(\"put\",text=\"put\",anchor=CENTER)\n",
    "    my_game.heading(\"Delta_Call\",text=\"Delta_Call\",anchor=CENTER)\n",
    "    my_game.heading(\"Delta_put\",text=\"Delta_put\",anchor=CENTER)\n",
    "    my_game.heading(\"Vega\",text=\"Vega\",anchor=CENTER)\n",
    "    my_game.heading(\"Theta_call\",text=\"Theta_call\",anchor=CENTER)\n",
    "    my_game.heading(\"Theta_put\",text=\"Theta_put\",anchor=CENTER)\n",
    "    my_game.heading(\"rho_call\",text=\"rho_call\",anchor=CENTER)\n",
    "    my_game.heading(\"rho_put\",text=\"rho_put\",anchor=CENTER)\n",
    "    my_game.heading(\"gamma\",text=\"gamma\",anchor=CENTER)\n",
    "    my_game.heading(\"vanna\",text=\"vanna\",anchor=CENTER)\n",
    "    my_game.heading(\"volga\",text=\"volga\",anchor=CENTER)\n",
    "    my_game.heading(\"color\",text=\"color\",anchor=CENTER)\n",
    "\n",
    "    my_game.insert(parent='',index='end',text='', values=(k1))\n",
    "    my_game.insert(parent='',index='end',text='', values=(k2))\n",
    "    my_game.insert(parent='',index='end',text='', values=(k3))\n",
    "    my_game.insert(parent='',index='end',text='', values=(k4))\n",
    "    my_game.insert(parent='',index='end',text='', values=(k5))\n",
    "    my_game.pack()\n",
    "    \n",
    "    # Se actualizara la tabla \n",
    "    def cerrar():\n",
    "        ws.destroy()\n",
    "    \n",
    "    ws.after(9000,cerrar)\n",
    "    contador = contador+1 \n",
    "    ws.mainloop()\n",
    "\n",
    "    \n",
    "        \n",
    "    #ws.destroy()\n",
    "    \n",
    "    "
   ]
  },
  {
   "cell_type": "markdown",
   "metadata": {},
   "source": [
    "# Backtest"
   ]
  },
  {
   "cell_type": "code",
   "execution_count": null,
   "metadata": {},
   "outputs": [],
   "source": [
    "k,precio_justo_call,precio_justo_put\n"
   ]
  },
  {
   "cell_type": "code",
   "execution_count": null,
   "metadata": {},
   "outputs": [],
   "source": [
    "Delta_1 = [a[i][0:2] for i in range (0,5)]"
   ]
  },
  {
   "cell_type": "code",
   "execution_count": null,
   "metadata": {},
   "outputs": [],
   "source": [
    "Gamma_1 = [a[i][7] for i in range (0,5)]"
   ]
  },
  {
   "cell_type": "code",
   "execution_count": null,
   "metadata": {},
   "outputs": [],
   "source": [
    "Delta_1[0][0]"
   ]
  },
  {
   "cell_type": "code",
   "execution_count": null,
   "metadata": {},
   "outputs": [],
   "source": [
    "Delta_1 = [a[i][0:2] for i in range (0,5)]\n",
    "Gamma_1 = [a[i][7] for i in range (0,5)]\n",
    "Test = pd.DataFrame([st,k[0],precio_justo_call[0],precio_justo_put[0],Delta_1[0][0],Delta_1[0][1],Gamma_1[0]]).T\n",
    "#Test.rename(columns = {0:'St', 1:'K',2:'Call',3:'Put',4:'Delta_call',5:'Delta_put',6:'Gamma'}, inplace = True)\n",
    "Test"
   ]
  },
  {
   "cell_type": "code",
   "execution_count": null,
   "metadata": {},
   "outputs": [],
   "source": [
    "lista = pd.DataFrame([st,k[0],precio_justo_call[0],precio_justo_put[0],Delta_1[0][0],Delta_1[0][1],Gamma_1[0]]).T\n"
   ]
  },
  {
   "cell_type": "code",
   "execution_count": null,
   "metadata": {},
   "outputs": [],
   "source": [
    "np.zeros(len(mausherramienta[activo])+1)"
   ]
  },
  {
   "cell_type": "code",
   "execution_count": null,
   "metadata": {},
   "outputs": [],
   "source": [
    "def back_test(k, precio_justo_call, precio_justo_put):\n",
    "    r = .0852\n",
    "    T = 24/252\n",
    "    t = 0\n",
    "    ret_log = np.log(mausherramienta[activo]/mausherramienta[activo].shift(1)).dropna()\n",
    "    cambio_porcentual_anual = ret_log.iloc[-1]*(252)\n",
    "    sigma = np.std(ret_log)*np.sqrt(252)\n",
    "    CALIZ = np.zeros(7)\n",
    "    CALIZ = pd.DataFrame(CALIZ)\n",
    "    \n",
    "    for i in range (1,len(mausherramienta[activo])+1):\n",
    "        st = mausherramienta[activo][-i]\n",
    "        k_ = k\n",
    "        call = precio_justo_call\n",
    "        put = precio_justo_put\n",
    "        Delta_call = f.delta_call(st,k_,T,t,r,sigma)\n",
    "        Delta_put =  f.delta_put(st,k_,T,t,r,sigma)\n",
    "        gamma = f.gamma(st,k_,T,t,r,sigma)\n",
    "        lista = pd.DataFrame([st,k_,call,put,Delta_call,Delta_put,gamma])\n",
    "        CALIZ[i] = lista\n",
    "        T=T-(1/252)\n",
    "\n",
    "\n",
    "    CALIZ.drop(0, axis=1, inplace=valor)\n",
    "    CALIZ = CALIZ.T\n",
    "    CALIZ.rename(columns = {0:'St', 1:'K',2:'Call',3:'Put',4:'Delta_call',5:'Delta_put',6:'Gamma'}, inplace = valor)\n",
    "    \n",
    "    return CALIZ"
   ]
  },
  {
   "cell_type": "code",
   "execution_count": null,
   "metadata": {},
   "outputs": [],
   "source": [
    "K_1 = back_test(k[0], precio_justo_call[0], precio_justo_put[0])\n",
    "K_2 = back_test(k[1], precio_justo_call[1], precio_justo_put[1])\n",
    "K_3 = back_test(k[2], precio_justo_call[2], precio_justo_put[2])\n",
    "K_4 = back_test(k[3], precio_justo_call[3], precio_justo_put[3])\n",
    "K_5 = back_test(k[4], precio_justo_call[4], precio_justo_put[4])"
   ]
  },
  {
   "cell_type": "code",
   "execution_count": null,
   "metadata": {},
   "outputs": [],
   "source": [
    "K_1"
   ]
  },
  {
   "cell_type": "markdown",
   "metadata": {},
   "source": [
    "Coberturas \n",
    "opcciones call o put "
   ]
  },
  {
   "cell_type": "markdown",
   "metadata": {},
   "source": [
    "Segunda tabla CALL"
   ]
  },
  {
   "cell_type": "code",
   "execution_count": null,
   "metadata": {},
   "outputs": [],
   "source": [
    "def segunda_tabla_call(K_1):\n",
    "    \n",
    "    dif_delta1CALL = [K_1[\"Delta_call\"][i+1]-K_1[\"Delta_call\"][i] for i in range(1,len(K_1))]\n",
    "    \n",
    "    factor = [1.2 if K_1[\"Gamma\"][i]>=0.8 else 0.8 if K_1[\"Gamma\"][i]<=0.4 else 1 for i in range(1, len(K_1))]\n",
    "    \n",
    "    \n",
    "    compra_activo=[K_1[\"St\"].iloc[0]*K_1[\"Delta_call\"].iloc[0]]\n",
    "    \n",
    "    for i in range(len(dif_delta1CALL)):\n",
    "        compra_activo.append(K_1[\"St\"][i+1]*dif_delta1CALL[i])\n",
    "        \n",
    "    \n",
    "    Activo_acum = [K_1[\"Delta_call\"].iloc[0]*factor[0]]\n",
    "\n",
    "    for i in range(len(dif_delta1CALL)):\n",
    "        Activo_acum.append(Activo_acum[i]+dif_delta1CALL[i]*factor[i])    \n",
    "    \n",
    "    \n",
    "    costo_acum = [compra_activo[0]]\n",
    "\n",
    "    for i in range(len(dif_delta1CALL)):\n",
    "        costo_acum.append(costo_acum[i]+compra_activo[i+1])\n",
    "        \n",
    "    ganancia_diaria= [np.max((K_1[\"St\"].iloc[i]-K_1[\"K\"].iloc[i]),0) for i in range(len(K_1))]\n",
    "    \n",
    "    costo_total=costo_acum[-1]\n",
    "    \n",
    "    primas=K_1[\"Call\"]\n",
    "    primas=-primas.iloc[-1]\n",
    "    \n",
    "    total=costo_total+primas\n",
    "    \n",
    "    no_cubrir=K_1[\"St\"].iloc[-1]\n",
    "    \n",
    "    beneficio=no_cubrir-total\n",
    "    \n",
    "    f=np.zeros(len(dif_delta1CALL)+1)\n",
    "    \n",
    "    for i in range(len(dif_delta1CALL)):\n",
    "        f[i+1]=dif_delta1CALL[i]\n",
    "    \n",
    "    lista = pd.DataFrame([f,compra_activo,Activo_acum,costo_acum,ganancia_diaria])\n",
    "    \n",
    "    lista = lista.T\n",
    "    lista.rename(columns = {0:'Diff', 1:'compra_activo',2:'Activo_acum',3:'Acum_dinero',4:'Ganancia_diaria'}, inplace = valor)\n",
    "    \n",
    "    \n",
    "    return lista, costo_total,primas,total,no_cubrir,beneficio"
   ]
  },
  {
   "cell_type": "code",
   "execution_count": null,
   "metadata": {},
   "outputs": [],
   "source": [
    "st_k1_call=segunda_tabla_call(K_1)\n",
    "st_k2_call=segunda_tabla_call(K_2)\n",
    "st_k3_call=segunda_tabla_call(K_3)\n",
    "st_k4_call=segunda_tabla_call(K_4)\n",
    "st_k5_call=segunda_tabla_call(K_5)"
   ]
  },
  {
   "cell_type": "code",
   "execution_count": null,
   "metadata": {},
   "outputs": [],
   "source": [
    "st_k1_call[0]"
   ]
  },
  {
   "cell_type": "code",
   "execution_count": null,
   "metadata": {},
   "outputs": [],
   "source": [
    "pg_sin_cober = K_1[\"K\"].iloc[-1]-K_1[\"St\"].iloc[-1]\n",
    "pg_Total_sin_cober = pg_sin_cober+ K_1[\"Call\"].iloc[-1]\n",
    "\n",
    "pg_con_cober =  K_1[\"K\"].iloc[-1]-st_k1_call[0][\"Acum_dinero\"].iloc[-1]\n",
    "pg_Total_con_cober = pg_con_cober + K_1[\"Call\"].iloc[-1]"
   ]
  },
  {
   "cell_type": "code",
   "execution_count": null,
   "metadata": {},
   "outputs": [],
   "source": [
    "pg_Total_sin_cober"
   ]
  },
  {
   "cell_type": "code",
   "execution_count": null,
   "metadata": {},
   "outputs": [],
   "source": [
    "pg_Total_con_cober"
   ]
  },
  {
   "cell_type": "markdown",
   "metadata": {},
   "source": [
    "Segunda tabla PUT (verificar)"
   ]
  },
  {
   "cell_type": "code",
   "execution_count": null,
   "metadata": {},
   "outputs": [],
   "source": [
    "def segunda_tabla_put(K_1):\n",
    "    \n",
    "    dif_delta1CALL = [K_1[\"Delta_put\"][i+1]-K_1[\"Delta_put\"][i] for i in range(1,len(K_1))]\n",
    "    \n",
    "    factor = [1.2 if K_1[\"Gamma\"][i]>=0.8 else 0.8 if K_1[\"Gamma\"][i]<=0.4 else 1 for i in range(1, len(K_1))]\n",
    "    \n",
    "    \n",
    "    compra_activo=[K_1[\"St\"].iloc[0]*K_1[\"Delta_put\"].iloc[0]]\n",
    "    \n",
    "    for i in range(len(dif_delta1CALL)):\n",
    "        compra_activo.append(K_1[\"St\"][i+1]*dif_delta1CALL[i])\n",
    "        \n",
    "    \n",
    "    Activo_acum = [K_1[\"Delta_put\"].iloc[0]*factor[0]]\n",
    "\n",
    "    for i in range(len(dif_delta1CALL)):\n",
    "        Activo_acum.append(Activo_acum[i]+dif_delta1CALL[i]*factor[i])    \n",
    "    \n",
    "    \n",
    "    costo_acum = [compra_activo[0]]\n",
    "\n",
    "    for i in range(len(dif_delta1CALL)):\n",
    "        costo_acum.append(costo_acum[i]+compra_activo[i+1])\n",
    "        \n",
    "    ganancia_diaria= [np.max((-K_1[\"St\"].iloc[i]+K_1[\"K\"].iloc[i]),0) for i in range(len(K_1))]\n",
    "    \n",
    "    costo_total=costo_acum[-1]\n",
    "    \n",
    "    primas=K_1[\"Put\"]\n",
    "    primas= -primas.iloc[-1]\n",
    "    \n",
    "    total=costo_total+primas\n",
    "    \n",
    "    no_cubrir=K_1[\"St\"].iloc[-1]\n",
    "    \n",
    "    beneficio=no_cubrir-total\n",
    "    \n",
    "    f=np.zeros(len(dif_delta1CALL)+1)\n",
    "    \n",
    "    for i in range(len(dif_delta1CALL)):\n",
    "        f[i+1]=dif_delta1CALL[i]\n",
    "    \n",
    "    lista = pd.DataFrame([f,compra_activo,Activo_acum,costo_acum,ganancia_diaria])\n",
    "    \n",
    "    lista = lista.T\n",
    "    lista.rename(columns = {0:'Diff', 1:'compra_activo',2:'Activo_acum',3:'Acum_dinero',4:'Ganancia_diaria'}, inplace = valor)\n",
    "    \n",
    "    \n",
    "    return lista, costo_total,primas,total,no_cubrir,beneficio"
   ]
  },
  {
   "cell_type": "code",
   "execution_count": null,
   "metadata": {},
   "outputs": [],
   "source": [
    "def segunda_tabla_put(K_1):\n",
    "    \n",
    "    dif_delta1CALL = [K_1[\"Delta_put\"][i+1]-K_1[\"Delta_put\"][i] for i in range(1,len(K_1))]\n",
    "    \n",
    "    factor = [1.2 if K_1[\"Gamma\"][i]>=0.8 else 0.8 if K_1[\"Gamma\"][i]<=0.4 else 1 for i in range(1, len(K_1))]\n",
    "    \n",
    "    Activo_acum = [K_1[\"Delta_put\"].iloc[0]*factor[0]]\n",
    "\n",
    "    for i in range(len(dif_delta1CALL)):\n",
    "        Activo_acum.append(Activo_acum[i]+dif_delta1CALL[i]*factor[i])\n",
    "    \n",
    "    costo=K_1[\"St\"]*Activo_acum\n",
    "    \n",
    "    costo_acum = [costo.iloc[0]]\n",
    "\n",
    "    for i in range(len(dif_delta1CALL)):\n",
    "        costo_acum.append(costo_acum[i]+costo[i+1])\n",
    "    \n",
    "    costo_total=costo_acum[-1]\n",
    "    \n",
    "    primas=K_1[\"Put\"]\n",
    "    primas=primas.iloc[-1]#consultar signo\n",
    "    \n",
    "    total=costo_total+primas\n",
    "    \n",
    "    no_cubrir=K_1[\"St\"].iloc[-1]\n",
    "    \n",
    "    beneficio=no_cubrir-total\n",
    "    \n",
    "    f=np.zeros(len(dif_delta1CALL)+1)\n",
    "    \n",
    "    for i in range(len(dif_delta1CALL)):\n",
    "        f[i+1]=dif_delta1CALL[i]\n",
    "    \n",
    "    lista = pd.DataFrame([f,Activo_acum,costo,costo_acum])\n",
    "    \n",
    "    lista = lista.T\n",
    "    lista.rename(columns = {0:'Diff', 1:'Activo_acum',2:'Costo',3:'Costo_acum'}, inplace = valor)\n",
    "    \n",
    "    \n",
    "    return lista, costo_total,primas,total,no_cubrir,beneficio"
   ]
  },
  {
   "cell_type": "code",
   "execution_count": null,
   "metadata": {},
   "outputs": [],
   "source": [
    "st_k1_put=segunda_tabla_put(K_1)\n",
    "st_k2_put=segunda_tabla_put(K_2)\n",
    "st_k3_put=segunda_tabla_put(K_3)\n",
    "st_k4_put=segunda_tabla_put(K_4)\n",
    "st_k5_put=segunda_tabla_put(K_5)"
   ]
  },
  {
   "cell_type": "code",
   "execution_count": null,
   "metadata": {},
   "outputs": [],
   "source": [
    "st_k1_put[0]"
   ]
  },
  {
   "cell_type": "code",
   "execution_count": null,
   "metadata": {},
   "outputs": [],
   "source": [
    "pg_sin_cober = K_1[\"K\"].iloc[-1]-K_1[\"St\"].iloc[-1]\n",
    "pg_Total_sin_cober = pg_sin_cober+ K_1[\"Call\"].iloc[-1]\n",
    "\n",
    "pg_con_cober =  K_1[\"K\"].iloc[-1]-st_k1_call[0][\"Acum_dinero\"].iloc[-1]\n",
    "pg_Total_con_cober = pg_con_cober + K_1[\"Call\"].iloc[-1]"
   ]
  },
  {
   "cell_type": "code",
   "execution_count": null,
   "metadata": {},
   "outputs": [],
   "source": [
    "st_k1_put=segunda_tabla_put(K_1)\n",
    "st_k2_put=segunda_tabla_put(K_2)\n",
    "st_k3_put=segunda_tabla_put(K_3)\n",
    "st_k4_put=segunda_tabla_put(K_4)\n",
    "st_k5_put=segunda_tabla_put(K_5)"
   ]
  },
  {
   "cell_type": "code",
   "execution_count": null,
   "metadata": {},
   "outputs": [],
   "source": [
    "K1_Final = {'Call':pd.concat([K_1.reset_index(), st_k1_call[0]], axis=1),\n",
    "            'Put': pd.concat([K_1.reset_index(), st_k1_put[0]], axis=1)}\n",
    "\n",
    "K2_Final = {'Call':pd.concat([K_2.reset_index(), st_k2_call[0]], axis=1),\n",
    "            'Put': pd.concat([K_2.reset_index(), st_k2_put[0]], axis=1)}\n",
    "\n",
    "K3_Final = {'Call':pd.concat([K_3.reset_index(), st_k3_call[0]], axis=1),\n",
    "            'Put': pd.concat([K_3.reset_index(), st_k3_put[0]], axis=1)}\n",
    "\n",
    "K4_Final = {'Call':pd.concat([K_4.reset_index(), st_k4_call[0]], axis=1),\n",
    "            'Put': pd.concat([K_4.reset_index(), st_k4_put[0]], axis=1)}\n",
    "\n",
    "K5_Final = {'Call':pd.concat([K_5.reset_index(), st_k5_call[0]], axis=1),\n",
    "            'Put': pd.concat([K_5.reset_index(), st_k5_put[0]], axis=1)}"
   ]
  },
  {
   "cell_type": "code",
   "execution_count": null,
   "metadata": {},
   "outputs": [],
   "source": [
    "Ganancias1 = {'Call':st_k1_call[1:],\n",
    "            'Put': st_k1_put[1:]}\n",
    "\n",
    "Ganancias2 = {'Call': st_k2_call[1:],\n",
    "            'Put': st_k2_put[1:]}\n",
    "\n",
    "Ganancias3 = {'Call': st_k3_call[1:],\n",
    "            'Put': st_k3_put[1:]}\n",
    "\n",
    "Ganancias4 = {'Call': st_k4_call[1:],\n",
    "            'Put': st_k4_put[1:]}\n",
    "\n",
    "Ganancias5 = {'Call':st_k5_call[1:],\n",
    "            'Put': st_k5_put[1:]}"
   ]
  },
  {
   "cell_type": "code",
   "execution_count": null,
   "metadata": {},
   "outputs": [],
   "source": [
    "#print(k[0],Ganancias1[Eleccion])\n",
    "#print(k[1],Ganancias2[Eleccion])\n",
    "#print(k[2],Ganancias3[Eleccion])\n",
    "#print(k[3],Ganancias4[Eleccion])\n",
    "#print(k[4],Ganancias5[Eleccion])"
   ]
  },
  {
   "cell_type": "code",
   "execution_count": null,
   "metadata": {},
   "outputs": [],
   "source": [
    "k"
   ]
  },
  {
   "cell_type": "code",
   "execution_count": null,
   "metadata": {
    "scrolled": true
   },
   "outputs": [],
   "source": [
    "Final_Final_1 = pd.DataFrame(columns=[' ','Esc1','Esc2','Esc3','Esc4','Esc5'])\n",
    "Final_Final_1[' ']='K','Prima','Perdida o Ganancia c/ cobertura','Total','Precio x no cubrir','Beneficio','Tipo'\n",
    "Final_Final_1['Esc1'] = k[0],Ganancias1[Eleccion][1],Ganancias1[Eleccion][0],Ganancias1[Eleccion][2],Ganancias1[Eleccion][3],Ganancias1[Eleccion][4],Eleccion\n",
    "Final_Final_1['Esc2'] = k[1],Ganancias2[Eleccion][1],Ganancias2[Eleccion][0],Ganancias2[Eleccion][2],Ganancias2[Eleccion][3],Ganancias2[Eleccion][4],Eleccion\n",
    "Final_Final_1['Esc3'] = k[2],Ganancias3[Eleccion][1],Ganancias3[Eleccion][0],Ganancias3[Eleccion][2],Ganancias3[Eleccion][3],Ganancias3[Eleccion][4],Eleccion\n",
    "Final_Final_1['Esc4'] = k[3],Ganancias5[Eleccion][1],Ganancias5[Eleccion][0],Ganancias5[Eleccion][2],Ganancias5[Eleccion][3],Ganancias5[Eleccion][4],Eleccion\n",
    "Final_Final_1['Esc5'] = k[4],Ganancias4[Eleccion][1],Ganancias4[Eleccion][0],Ganancias4[Eleccion][2],Ganancias4[Eleccion][3],Ganancias4[Eleccion][4],Eleccion\n",
    "Final_Final_1"
   ]
  },
  {
   "cell_type": "code",
   "execution_count": null,
   "metadata": {},
   "outputs": [],
   "source": [
    "\n",
    "import tkinter as tk\n",
    "import pandas as pd\n",
    "from pandastable import Table, TableModel\n",
    "\n",
    "\n",
    "\n",
    "\n",
    "class DataFrameTable(tk.Frame):\n",
    "    def __init__(self, parent=None, df=pd.DataFrame()):\n",
    "        super().__init__()\n",
    "        self.parent = parent\n",
    "        self.pack(fill=tk.BOTH, expand=valor)\n",
    "        self.table = Table(\n",
    "            self, dataframe=df,\n",
    "            showtoolbar=False,\n",
    "            showstatusbar=valor,\n",
    "            editable=False)\n",
    "        self.table.show()\n",
    "\n",
    "\n",
    "df = Final_Final_1\n",
    "root = tk.Tk()\n",
    "table = DataFrameTable(root, df)\n",
    "root.geometry('1500x1500')\n",
    "root.mainloop()"
   ]
  }
 ],
 "metadata": {
  "kernelspec": {
   "display_name": "Python 3 (ipykernel)",
   "language": "python",
   "name": "python3"
  },
  "language_info": {
   "codemirror_mode": {
    "name": "ipython",
    "version": 3
   },
   "file_extension": ".py",
   "mimetype": "text/x-python",
   "name": "python",
   "nbconvert_exporter": "python",
   "pygments_lexer": "ipython3",
   "version": "3.9.7"
  }
 },
 "nbformat": 4,
 "nbformat_minor": 4
}
